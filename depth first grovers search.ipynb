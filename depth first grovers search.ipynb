{
 "cells": [
  {
   "cell_type": "code",
   "execution_count": 1,
   "id": "507c0cd8",
   "metadata": {},
   "outputs": [
    {
     "name": "stdout",
     "output_type": "stream",
     "text": [
      "search started at: 2024-02-19 14:37:31.032930\n",
      "search end at: 2024-02-19 14:37:31.034224\n",
      "Total time --- 1.6413829326629639 seconds ---\n",
      "{'10000001': 1024}\n"
     ]
    },
    {
     "data": {
      "image/png": "[encoded data removed]",
      "text/plain": [
       "<Figure size 700x500 with 1 Axes>"
      ]
     },
     "execution_count": 1,
     "metadata": {},
     "output_type": "execute_result"
    }
   ],
   "source": [
    "from qiskit import QuantumCircuit, Aer, execute, transpile\n",
    "import math\n",
    "from qiskit.visualization import plot_histogram\n",
    "import time\n",
    "from datetime import datetime\n",
    "\n",
    "def partial_hadamard_transform(circuit, qubits_to_superpose):\n",
    "    for qubit in qubits_to_superpose:\n",
    "        circuit.h(qubit)\n",
    "\n",
    "def partial_oracle(circuit, qubits, ancilla, target_state):\n",
    "    for qubit, bit in zip(qubits, target_state):\n",
    "        if bit == '0':\n",
    "            circuit.x(qubit)\n",
    "    circuit.mcx(qubits, ancilla)\n",
    "    for qubit, bit in zip(qubits, target_state):\n",
    "        if bit == '0':\n",
    "            circuit.x(qubit)\n",
    "\n",
    "def partial_diffuser(circuit, qubits_pair):\n",
    "    if len(qubits_pair) == 1:\n",
    "        circuit.z(qubits_pair[0])\n",
    "    else:\n",
    "        # For multiple qubits, use the existing implementation\n",
    "        for qubit in qubits_pair:\n",
    "            circuit.h(qubit)\n",
    "            circuit.x(qubit)\n",
    "        circuit.h(qubits_pair[-1])\n",
    "        circuit.mcx(qubits_pair[:-1], qubits_pair[-1])\n",
    "        circuit.h(qubits_pair[-1])\n",
    "        for qubit in qubits_pair:\n",
    "            circuit.x(qubit)\n",
    "            circuit.h(qubit)\n",
    "\n",
    "def iterative_grover_search(n, solution, p=2):\n",
    "    print(f\"search started at: {datetime.now()}\")\n",
    "    found_solutions = []\n",
    "    ancilla = n\n",
    "    circuit = QuantumCircuit(n + 1, n) \n",
    "    circuit.x(ancilla)\n",
    "    circuit.h(ancilla)\n",
    "\n",
    "    for step in range(0, n-1, p):\n",
    "        qubits_to_superpose = list(range(step, min(step + p, n)))\n",
    "\n",
    "        # Apply partial Hadamard transform\n",
    "        partial_hadamard_transform(circuit, qubits_to_superpose)\n",
    "\n",
    "        # Prepare the partial target state for the current segment\n",
    "        partial_target_state = solution[step:step+p]\n",
    "        \n",
    "        # Apply the partial oracle\n",
    "        partial_oracle(circuit, qubits_to_superpose, ancilla, partial_target_state)\n",
    "        partial_diffuser(circuit, qubits_to_superpose)\n",
    "\n",
    "        # Measure the qubits\n",
    "        circuit.measure(qubits_to_superpose, qubits_to_superpose)\n",
    "    \n",
    "    if n % 2 != 0:\n",
    "        if solution[-1] == '1':\n",
    "            circuit.x(n-1)\n",
    "        circuit.measure(n-1, n-1)\n",
    "        \n",
    "    print(f\"search end at: {datetime.now()}\")\n",
    "    return circuit\n",
    "\n",
    "start_time = time.time()\n",
    "\n",
    "# Example usage\n",
    "n=8\n",
    "solution = '10000001'\n",
    "circuit = iterative_grover_search(n, solution)\n",
    "\n",
    "# Display the circuit\n",
    "\n",
    "backend = Aer.get_backend('aer_simulator')\n",
    "transpiled_circuit = transpile(circuit, backend)\n",
    "result = backend.run(transpiled_circuit).result()\n",
    "counts = result.get_counts()\n",
    "print(\"Total time --- %s seconds ---\" % (time.time() - start_time))\n",
    "print(counts)\n",
    "#print(circuit)\n",
    "plot_histogram(counts)"
   ]
  },
  {
   "cell_type": "code",
   "execution_count": null,
   "id": "a94d505c",
   "metadata": {},
   "outputs": [],
   "source": []
  },
  {
   "cell_type": "code",
   "execution_count": null,
   "id": "61480fbe",
   "metadata": {},
   "outputs": [],
   "source": []
  }
 ],
 "metadata": {
  "kernelspec": {
   "display_name": "Python 3 (ipykernel)",
   "language": "python",
   "name": "python3"
  },
  "language_info": {
   "codemirror_mode": {
    "name": "ipython",
    "version": 3
   },
   "file_extension": ".py",
   "mimetype": "text/x-python",
   "name": "python",
   "nbconvert_exporter": "python",
   "pygments_lexer": "ipython3",
   "version": "3.9.13"
  }
 },
 "nbformat": 4,
 "nbformat_minor": 5
}
